{
 "cells": [
  {
   "cell_type": "code",
   "execution_count": 1,
   "metadata": {},
   "outputs": [],
   "source": [
    "from src.main import Solver"
   ]
  },
  {
   "cell_type": "code",
   "execution_count": 2,
   "metadata": {},
   "outputs": [
    {
     "name": "stdout",
     "output_type": "stream",
     "text": [
      "Current depth: 1\n",
      "Time elapsed: 0.00 s\n",
      "Number of solutions: 6\n",
      "\n",
      "Current depth: 2\n",
      "Time elapsed: 0.00 s\n",
      "Number of solutions: 180\n",
      "\n",
      "Current depth: 3\n",
      "Time elapsed: 0.02 s\n",
      "Number of solutions: 4200\n",
      "\n",
      "Current depth: 4\n",
      "Time elapsed: 0.46 s\n",
      "Number of solutions: 75060\n",
      "\n",
      "Current depth: 5\n",
      "Time elapsed: 10.42 s\n",
      "Number of solutions: 893904\n",
      "\n"
     ]
    },
    {
     "data": {
      "text/plain": [
       "'2 * (5 * 100 - 4) - 50 - 3 = 939. Time elapsed: 11.00 s.'"
      ]
     },
     "execution_count": 2,
     "metadata": {},
     "output_type": "execute_result"
    }
   ],
   "source": [
    "available_numbers = [2, 50, 5, 3, 100, 4]\n",
    "objective = 939\n",
    "\n",
    "s = Solver(available_numbers, objective)\n",
    "s.solve()"
   ]
  },
  {
   "cell_type": "code",
   "execution_count": 3,
   "metadata": {},
   "outputs": [
    {
     "name": "stdout",
     "output_type": "stream",
     "text": [
      "Current depth: 1\n",
      "Time elapsed: 0.00 s\n",
      "Number of solutions: 6\n",
      "\n",
      "Current depth: 2\n",
      "Time elapsed: 0.00 s\n",
      "Number of solutions: 156\n",
      "\n",
      "Current depth: 3\n",
      "Time elapsed: 0.02 s\n",
      "Number of solutions: 3948\n",
      "\n"
     ]
    },
    {
     "data": {
      "text/plain": [
       "'8 * 50 - 1 - 100 = 299. Time elapsed: 0.24 s.'"
      ]
     },
     "execution_count": 3,
     "metadata": {},
     "output_type": "execute_result"
    }
   ],
   "source": [
    "available_numbers = [100, 5, 8, 1, 5, 50]\n",
    "objective = 299\n",
    "\n",
    "s = Solver(available_numbers, objective)\n",
    "s.solve()"
   ]
  },
  {
   "cell_type": "code",
   "execution_count": 4,
   "metadata": {},
   "outputs": [
    {
     "name": "stdout",
     "output_type": "stream",
     "text": [
      "Current depth: 1\n",
      "Time elapsed: 0.00 s\n",
      "Number of solutions: 6\n",
      "\n",
      "Current depth: 2\n",
      "Time elapsed: 0.00 s\n",
      "Number of solutions: 180\n",
      "\n",
      "Current depth: 3\n",
      "Time elapsed: 0.02 s\n",
      "Number of solutions: 4032\n",
      "\n",
      "Current depth: 4\n",
      "Time elapsed: 0.44 s\n",
      "Number of solutions: 71514\n",
      "\n",
      "Current depth: 5\n",
      "Time elapsed: 10.75 s\n",
      "Number of solutions: 852162\n",
      "\n"
     ]
    },
    {
     "data": {
      "text/plain": [
       "'4 * 2 * 9 * (1 + 5) - 25 = 407. Time elapsed: 10.88 s.'"
      ]
     },
     "execution_count": 4,
     "metadata": {},
     "output_type": "execute_result"
    }
   ],
   "source": [
    "available_numbers = [4, 25, 2, 9, 1, 5]\n",
    "objective = 407\n",
    "\n",
    "s = Solver(available_numbers, objective)\n",
    "s.solve()"
   ]
  },
  {
   "cell_type": "code",
   "execution_count": 5,
   "metadata": {},
   "outputs": [
    {
     "name": "stdout",
     "output_type": "stream",
     "text": [
      "Current depth: 1\n",
      "Time elapsed: 0.00 s\n",
      "Number of solutions: 6\n",
      "\n",
      "Current depth: 2\n",
      "Time elapsed: 0.00 s\n",
      "Number of solutions: 156\n",
      "\n",
      "Current depth: 3\n",
      "Time elapsed: 0.02 s\n",
      "Number of solutions: 3696\n",
      "\n",
      "Current depth: 4\n",
      "Time elapsed: 0.42 s\n",
      "Number of solutions: 76998\n",
      "\n",
      "Current depth: 5\n",
      "Time elapsed: 11.02 s\n",
      "Number of solutions: 1112382\n",
      "\n"
     ]
    },
    {
     "data": {
      "text/plain": [
       "'2 * 7 * 8 * (1 + 5) + 2 = 674. Time elapsed: 17.98 s.'"
      ]
     },
     "execution_count": 5,
     "metadata": {},
     "output_type": "execute_result"
    }
   ],
   "source": [
    "available_numbers = [2, 1, 5, 2, 7, 8]\n",
    "objective = 683\n",
    "\n",
    "s = Solver(available_numbers, objective)\n",
    "s.solve()"
   ]
  },
  {
   "cell_type": "code",
   "execution_count": 6,
   "metadata": {},
   "outputs": [
    {
     "name": "stdout",
     "output_type": "stream",
     "text": [
      "Current depth: 1\n",
      "Time elapsed: 0.00 s\n",
      "Number of solutions: 6\n",
      "\n",
      "Current depth: 2\n",
      "Time elapsed: 0.00 s\n",
      "Number of solutions: 156\n",
      "\n",
      "Current depth: 3\n",
      "Time elapsed: 0.02 s\n",
      "Number of solutions: 3924\n",
      "\n",
      "Current depth: 4\n",
      "Time elapsed: 0.44 s\n",
      "Number of solutions: 81222\n",
      "\n",
      "Current depth: 5\n",
      "Time elapsed: 11.37 s\n",
      "Number of solutions: 1171590\n",
      "\n"
     ]
    },
    {
     "data": {
      "text/plain": [
       "'5 + 5 * 6 * (25 - 9) = 485. Time elapsed: 11.37 s.'"
      ]
     },
     "execution_count": 6,
     "metadata": {},
     "output_type": "execute_result"
    }
   ],
   "source": [
    "available_numbers = [5, 5, 6, 9, 3, 25]\n",
    "objective = 485\n",
    "\n",
    "s = Solver(available_numbers, objective)\n",
    "s.solve()"
   ]
  },
  {
   "cell_type": "code",
   "execution_count": null,
   "metadata": {},
   "outputs": [],
   "source": []
  }
 ],
 "metadata": {
  "kernelspec": {
   "display_name": "Python 3",
   "language": "python",
   "name": "python3"
  },
  "language_info": {
   "codemirror_mode": {
    "name": "ipython",
    "version": 3
   },
   "file_extension": ".py",
   "mimetype": "text/x-python",
   "name": "python",
   "nbconvert_exporter": "python",
   "pygments_lexer": "ipython3",
   "version": "3.12.4"
  }
 },
 "nbformat": 4,
 "nbformat_minor": 2
}
