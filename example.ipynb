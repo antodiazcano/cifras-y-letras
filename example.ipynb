{
 "cells": [
  {
   "cell_type": "code",
   "execution_count": 1,
   "metadata": {},
   "outputs": [],
   "source": [
    "from src.main import Solver"
   ]
  },
  {
   "cell_type": "code",
   "execution_count": 2,
   "metadata": {},
   "outputs": [
    {
     "name": "stdout",
     "output_type": "stream",
     "text": [
      "Current depth: 1\n",
      "Time elapsed: 0.00 s\n",
      "Number of solutions: 6\n",
      "\n",
      "Current depth: 2\n",
      "Time elapsed: 0.00 s\n",
      "Number of solutions: 156\n",
      "\n",
      "Current depth: 3\n",
      "Time elapsed: 0.03 s\n",
      "Number of solutions: 3930\n",
      "\n"
     ]
    },
    {
     "data": {
      "text/plain": [
       "'8 + 25 * 10 = 258.  Time elapsed: 0.04 s.'"
      ]
     },
     "execution_count": 2,
     "metadata": {},
     "output_type": "execute_result"
    }
   ],
   "source": [
    "available_numbers = [8, 25, 10, 2, 8, 7]\n",
    "objective = 258\n",
    "\n",
    "s = Solver(available_numbers, objective)\n",
    "s.solve()"
   ]
  },
  {
   "cell_type": "code",
   "execution_count": 3,
   "metadata": {},
   "outputs": [
    {
     "name": "stdout",
     "output_type": "stream",
     "text": [
      "Current depth: 1\n",
      "Time elapsed: 0.00 s\n",
      "Number of solutions: 6\n",
      "\n",
      "Current depth: 2\n",
      "Time elapsed: 0.00 s\n",
      "Number of solutions: 156\n",
      "\n",
      "Current depth: 3\n",
      "Time elapsed: 0.02 s\n",
      "Number of solutions: 3786\n",
      "\n",
      "Current depth: 4\n",
      "Time elapsed: 0.39 s\n",
      "Number of solutions: 78552\n",
      "\n",
      "Current depth: 5\n",
      "Time elapsed: 10.21 s\n",
      "Number of solutions: 1136712\n",
      "\n"
     ]
    },
    {
     "data": {
      "text/plain": [
       "'3 * 8 * (7 + 9 * 3) = 816.  Time elapsed: 16.53 s.'"
      ]
     },
     "execution_count": 3,
     "metadata": {},
     "output_type": "execute_result"
    }
   ],
   "source": [
    "available_numbers = [7, 9, 3, 8, 3, 2]\n",
    "objective = 817\n",
    "\n",
    "s = Solver(available_numbers, objective)\n",
    "s.solve()"
   ]
  },
  {
   "cell_type": "code",
   "execution_count": 4,
   "metadata": {},
   "outputs": [
    {
     "name": "stdout",
     "output_type": "stream",
     "text": [
      "Current depth: 1\n",
      "Time elapsed: 0.00 s\n",
      "Number of solutions: 6\n",
      "\n",
      "Current depth: 2\n",
      "Time elapsed: 0.00 s\n",
      "Number of solutions: 180\n",
      "\n",
      "Current depth: 3\n",
      "Time elapsed: 0.02 s\n",
      "Number of solutions: 4224\n",
      "\n",
      "Current depth: 4\n",
      "Time elapsed: 0.46 s\n",
      "Number of solutions: 75348\n",
      "\n",
      "Current depth: 5\n",
      "Time elapsed: 9.91 s\n",
      "Number of solutions: 898092\n",
      "\n"
     ]
    },
    {
     "data": {
      "text/plain": [
       "'10 + 9 + 4 * (100 + 1) = 423.  Time elapsed: 9.91 s.'"
      ]
     },
     "execution_count": 4,
     "metadata": {},
     "output_type": "execute_result"
    }
   ],
   "source": [
    "available_numbers = [10, 9, 4, 100, 1, 25]\n",
    "objective = 423\n",
    "\n",
    "s = Solver(available_numbers, objective)\n",
    "s.solve()"
   ]
  },
  {
   "cell_type": "code",
   "execution_count": 5,
   "metadata": {},
   "outputs": [
    {
     "name": "stdout",
     "output_type": "stream",
     "text": [
      "Current depth: 1\n",
      "Time elapsed: 0.00 s\n",
      "Number of solutions: 6\n",
      "\n",
      "Current depth: 2\n",
      "Time elapsed: 0.00 s\n",
      "Number of solutions: 156\n",
      "\n",
      "Current depth: 3\n",
      "Time elapsed: 0.03 s\n",
      "Number of solutions: 3636\n",
      "\n",
      "Current depth: 4\n",
      "Time elapsed: 0.40 s\n",
      "Number of solutions: 75912\n",
      "\n",
      "Current depth: 5\n",
      "Time elapsed: 10.14 s\n",
      "Number of solutions: 1099890\n",
      "\n"
     ]
    },
    {
     "data": {
      "text/plain": [
       "'7 * (10 - 1) * (2 + 1) - 4 = 185.  Time elapsed: 13.18 s.'"
      ]
     },
     "execution_count": 5,
     "metadata": {},
     "output_type": "execute_result"
    }
   ],
   "source": [
    "available_numbers = [10, 2, 7, 1, 4, 1]\n",
    "objective = 185\n",
    "\n",
    "s = Solver(available_numbers, objective)\n",
    "s.solve()"
   ]
  },
  {
   "cell_type": "code",
   "execution_count": 6,
   "metadata": {},
   "outputs": [
    {
     "name": "stdout",
     "output_type": "stream",
     "text": [
      "Current depth: 1\n",
      "Time elapsed: 0.00 s\n",
      "Number of solutions: 6\n",
      "\n",
      "Current depth: 2\n",
      "Time elapsed: 0.00 s\n",
      "Number of solutions: 156\n",
      "\n",
      "Current depth: 3\n",
      "Time elapsed: 0.02 s\n",
      "Number of solutions: 3942\n",
      "\n",
      "Current depth: 4\n",
      "Time elapsed: 0.41 s\n",
      "Number of solutions: 82440\n",
      "\n",
      "Current depth: 5\n",
      "Time elapsed: 10.81 s\n",
      "Number of solutions: 1191996\n",
      "\n"
     ]
    },
    {
     "data": {
      "text/plain": [
       "'5 * (4 + 7 + 100) + 10 - 7 = 558.  Time elapsed: 11.32 s.'"
      ]
     },
     "execution_count": 6,
     "metadata": {},
     "output_type": "execute_result"
    }
   ],
   "source": [
    "available_numbers = [5, 4, 7, 7, 100, 10]\n",
    "objective = 558\n",
    "\n",
    "s = Solver(available_numbers, objective)\n",
    "s.solve()"
   ]
  },
  {
   "cell_type": "code",
   "execution_count": null,
   "metadata": {},
   "outputs": [],
   "source": []
  }
 ],
 "metadata": {
  "kernelspec": {
   "display_name": ".venv",
   "language": "python",
   "name": "python3"
  },
  "language_info": {
   "codemirror_mode": {
    "name": "ipython",
    "version": 3
   },
   "file_extension": ".py",
   "mimetype": "text/x-python",
   "name": "python",
   "nbconvert_exporter": "python",
   "pygments_lexer": "ipython3",
   "version": "3.12.3"
  }
 },
 "nbformat": 4,
 "nbformat_minor": 2
}
