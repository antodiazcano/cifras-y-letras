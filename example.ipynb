{
 "cells": [
  {
   "cell_type": "code",
   "execution_count": 1,
   "metadata": {},
   "outputs": [],
   "source": [
    "from src.main import Solver"
   ]
  },
  {
   "cell_type": "code",
   "execution_count": null,
   "metadata": {},
   "outputs": [],
   "source": [
    "available_numbers = [2, 1, 5, 2, 7, 8]\n",
    "objective = 683\n",
    "\n",
    "s = Solver(available_numbers, objective)\n",
    "s.solve()"
   ]
  },
  {
   "cell_type": "code",
   "execution_count": 3,
   "metadata": {},
   "outputs": [
    {
     "data": {
      "text/plain": [
       "[1, 2]"
      ]
     },
     "execution_count": 3,
     "metadata": {},
     "output_type": "execute_result"
    }
   ],
   "source": [
    "a = [1, 1, 2]\n",
    "a.remove(1)\n",
    "a"
   ]
  },
  {
   "cell_type": "code",
   "execution_count": 2,
   "metadata": {},
   "outputs": [
    {
     "name": "stdout",
     "output_type": "stream",
     "text": [
      "Current depth: 1\n",
      "Time elapsed: 0.00 s\n",
      "Number of solutions: 6\n",
      "\n",
      "Current depth: 2\n",
      "Time elapsed: 0.00 s\n",
      "Number of solutions: 180\n",
      "\n",
      "Current depth: 3\n",
      "Time elapsed: 0.03 s\n",
      "Number of solutions: 4200\n",
      "\n",
      "Current depth: 4\n",
      "Time elapsed: 0.51 s\n",
      "Number of solutions: 75060\n",
      "\n",
      "Current depth: 5\n",
      "Time elapsed: 10.80 s\n",
      "Number of solutions: 893904\n",
      "\n"
     ]
    },
    {
     "data": {
      "text/plain": [
       "'2 * (5 * 100 - 4) - 50 - 3 = 939. Time elapsed: 11.39 s.'"
      ]
     },
     "execution_count": 2,
     "metadata": {},
     "output_type": "execute_result"
    }
   ],
   "source": [
    "available_numbers = [2, 50, 5, 3, 100, 4]\n",
    "objective = 939\n",
    "\n",
    "s = Solver(available_numbers, objective)\n",
    "s.solve()"
   ]
  },
  {
   "cell_type": "code",
   "execution_count": 8,
   "metadata": {},
   "outputs": [
    {
     "name": "stdout",
     "output_type": "stream",
     "text": [
      "Current depth: 1\n",
      "Time elapsed: 0.00 s\n",
      "Number of solutions: 6\n",
      "\n",
      "Current depth: 2\n",
      "Time elapsed: 0.00 s\n",
      "Number of solutions: 156\n",
      "\n",
      "Current depth: 3\n",
      "Time elapsed: 0.04 s\n",
      "Number of solutions: 3948\n",
      "\n"
     ]
    },
    {
     "data": {
      "text/plain": [
       "'8 * 50 - 1 - 100 = 299. Time elapsed: 0.26 s.'"
      ]
     },
     "execution_count": 8,
     "metadata": {},
     "output_type": "execute_result"
    }
   ],
   "source": [
    "available_numbers = [100, 5, 8, 1, 5, 50]\n",
    "objective = 299\n",
    "\n",
    "s = Solver(available_numbers, objective)\n",
    "s.solve()"
   ]
  },
  {
   "cell_type": "code",
   "execution_count": 7,
   "metadata": {},
   "outputs": [
    {
     "name": "stdout",
     "output_type": "stream",
     "text": [
      "Current depth: 1\n",
      "Time elapsed: 0.00 s\n",
      "Number of solutions: 6\n",
      "\n",
      "Current depth: 2\n",
      "Time elapsed: 0.00 s\n",
      "Number of solutions: 180\n",
      "\n",
      "Current depth: 3\n",
      "Time elapsed: 0.02 s\n",
      "Number of solutions: 4032\n",
      "\n",
      "Current depth: 4\n",
      "Time elapsed: 0.42 s\n",
      "Number of solutions: 71514\n",
      "\n",
      "Current depth: 5\n",
      "Time elapsed: 9.79 s\n",
      "Number of solutions: 852162\n",
      "\n"
     ]
    },
    {
     "data": {
      "text/plain": [
       "'4 * 2 * 9 * (1 + 5) - 25 = 407. Time elapsed: 9.96 s.'"
      ]
     },
     "execution_count": 7,
     "metadata": {},
     "output_type": "execute_result"
    }
   ],
   "source": [
    "available_numbers = [4, 25, 2, 9, 1, 5]\n",
    "objective = 407\n",
    "\n",
    "s = Solver(available_numbers, objective)\n",
    "s.solve()"
   ]
  },
  {
   "cell_type": "code",
   "execution_count": 2,
   "metadata": {},
   "outputs": [
    {
     "name": "stdout",
     "output_type": "stream",
     "text": [
      "Current depth: 1\n",
      "Time elapsed: 0.00 s\n",
      "Number of solutions: 6\n",
      "\n",
      "Current depth: 2\n",
      "Time elapsed: 0.00 s\n",
      "Number of solutions: 156\n",
      "\n",
      "Current depth: 3\n",
      "Time elapsed: 0.01 s\n",
      "Number of solutions: 3696\n",
      "\n",
      "Current depth: 4\n",
      "Time elapsed: 0.42 s\n",
      "Number of solutions: 76998\n",
      "\n",
      "Current depth: 5\n",
      "Time elapsed: 10.37 s\n",
      "Number of solutions: 1112382\n",
      "\n"
     ]
    },
    {
     "ename": "IndexError",
     "evalue": "list index out of range",
     "output_type": "error",
     "traceback": [
      "\u001b[0;31m---------------------------------------------------------------------------\u001b[0m",
      "\u001b[0;31mIndexError\u001b[0m                                Traceback (most recent call last)",
      "Cell \u001b[0;32mIn[2], line 5\u001b[0m\n\u001b[1;32m      2\u001b[0m objective \u001b[38;5;241m=\u001b[39m \u001b[38;5;241m683\u001b[39m\n\u001b[1;32m      4\u001b[0m s \u001b[38;5;241m=\u001b[39m Solver(available_numbers, objective)\n\u001b[0;32m----> 5\u001b[0m \u001b[43ms\u001b[49m\u001b[38;5;241;43m.\u001b[39;49m\u001b[43msolve\u001b[49m\u001b[43m(\u001b[49m\u001b[43m)\u001b[49m\n",
      "File \u001b[0;32m~/Escritorio/cifras-y-letras/src/solver.py:342\u001b[0m, in \u001b[0;36mSolver.solve\u001b[0;34m(self, current_solutions, current_depth, initial_time, verbose)\u001b[0m\n\u001b[1;32m    339\u001b[0m     \u001b[38;5;28mself\u001b[39m\u001b[38;5;241m.\u001b[39m_expand_last_try()\n\u001b[1;32m    340\u001b[0m     \u001b[38;5;28;01mreturn\u001b[39;00m \u001b[38;5;28mself\u001b[39m\u001b[38;5;241m.\u001b[39mreturn_best_solution(time\u001b[38;5;241m.\u001b[39mtime() \u001b[38;5;241m-\u001b[39m initial_time)\n\u001b[0;32m--> 342\u001b[0m \u001b[38;5;28;01mreturn\u001b[39;00m \u001b[38;5;28;43mself\u001b[39;49m\u001b[38;5;241;43m.\u001b[39;49m\u001b[43msolve\u001b[49m\u001b[43m(\u001b[49m\n\u001b[1;32m    343\u001b[0m \u001b[43m    \u001b[49m\u001b[43mnew_current_solutions\u001b[49m\u001b[43m,\u001b[49m\n\u001b[1;32m    344\u001b[0m \u001b[43m    \u001b[49m\u001b[43mcurrent_depth\u001b[49m\u001b[43m \u001b[49m\u001b[38;5;241;43m+\u001b[39;49m\u001b[43m \u001b[49m\u001b[38;5;241;43m1\u001b[39;49m\u001b[43m,\u001b[49m\n\u001b[1;32m    345\u001b[0m \u001b[43m    \u001b[49m\u001b[43minitial_time\u001b[49m\u001b[43m,\u001b[49m\n\u001b[1;32m    346\u001b[0m \u001b[43m    \u001b[49m\u001b[43mverbose\u001b[49m\u001b[43m,\u001b[49m\n\u001b[1;32m    347\u001b[0m \u001b[43m\u001b[49m\u001b[43m)\u001b[49m\n",
      "File \u001b[0;32m~/Escritorio/cifras-y-letras/src/solver.py:342\u001b[0m, in \u001b[0;36mSolver.solve\u001b[0;34m(self, current_solutions, current_depth, initial_time, verbose)\u001b[0m\n\u001b[1;32m    339\u001b[0m     \u001b[38;5;28mself\u001b[39m\u001b[38;5;241m.\u001b[39m_expand_last_try()\n\u001b[1;32m    340\u001b[0m     \u001b[38;5;28;01mreturn\u001b[39;00m \u001b[38;5;28mself\u001b[39m\u001b[38;5;241m.\u001b[39mreturn_best_solution(time\u001b[38;5;241m.\u001b[39mtime() \u001b[38;5;241m-\u001b[39m initial_time)\n\u001b[0;32m--> 342\u001b[0m \u001b[38;5;28;01mreturn\u001b[39;00m \u001b[38;5;28;43mself\u001b[39;49m\u001b[38;5;241;43m.\u001b[39;49m\u001b[43msolve\u001b[49m\u001b[43m(\u001b[49m\n\u001b[1;32m    343\u001b[0m \u001b[43m    \u001b[49m\u001b[43mnew_current_solutions\u001b[49m\u001b[43m,\u001b[49m\n\u001b[1;32m    344\u001b[0m \u001b[43m    \u001b[49m\u001b[43mcurrent_depth\u001b[49m\u001b[43m \u001b[49m\u001b[38;5;241;43m+\u001b[39;49m\u001b[43m \u001b[49m\u001b[38;5;241;43m1\u001b[39;49m\u001b[43m,\u001b[49m\n\u001b[1;32m    345\u001b[0m \u001b[43m    \u001b[49m\u001b[43minitial_time\u001b[49m\u001b[43m,\u001b[49m\n\u001b[1;32m    346\u001b[0m \u001b[43m    \u001b[49m\u001b[43mverbose\u001b[49m\u001b[43m,\u001b[49m\n\u001b[1;32m    347\u001b[0m \u001b[43m\u001b[49m\u001b[43m)\u001b[49m\n",
      "    \u001b[0;31m[... skipping similar frames: Solver.solve at line 342 (1 times)]\u001b[0m\n",
      "File \u001b[0;32m~/Escritorio/cifras-y-letras/src/solver.py:342\u001b[0m, in \u001b[0;36mSolver.solve\u001b[0;34m(self, current_solutions, current_depth, initial_time, verbose)\u001b[0m\n\u001b[1;32m    339\u001b[0m     \u001b[38;5;28mself\u001b[39m\u001b[38;5;241m.\u001b[39m_expand_last_try()\n\u001b[1;32m    340\u001b[0m     \u001b[38;5;28;01mreturn\u001b[39;00m \u001b[38;5;28mself\u001b[39m\u001b[38;5;241m.\u001b[39mreturn_best_solution(time\u001b[38;5;241m.\u001b[39mtime() \u001b[38;5;241m-\u001b[39m initial_time)\n\u001b[0;32m--> 342\u001b[0m \u001b[38;5;28;01mreturn\u001b[39;00m \u001b[38;5;28;43mself\u001b[39;49m\u001b[38;5;241;43m.\u001b[39;49m\u001b[43msolve\u001b[49m\u001b[43m(\u001b[49m\n\u001b[1;32m    343\u001b[0m \u001b[43m    \u001b[49m\u001b[43mnew_current_solutions\u001b[49m\u001b[43m,\u001b[49m\n\u001b[1;32m    344\u001b[0m \u001b[43m    \u001b[49m\u001b[43mcurrent_depth\u001b[49m\u001b[43m \u001b[49m\u001b[38;5;241;43m+\u001b[39;49m\u001b[43m \u001b[49m\u001b[38;5;241;43m1\u001b[39;49m\u001b[43m,\u001b[49m\n\u001b[1;32m    345\u001b[0m \u001b[43m    \u001b[49m\u001b[43minitial_time\u001b[49m\u001b[43m,\u001b[49m\n\u001b[1;32m    346\u001b[0m \u001b[43m    \u001b[49m\u001b[43mverbose\u001b[49m\u001b[43m,\u001b[49m\n\u001b[1;32m    347\u001b[0m \u001b[43m\u001b[49m\u001b[43m)\u001b[49m\n",
      "File \u001b[0;32m~/Escritorio/cifras-y-letras/src/solver.py:339\u001b[0m, in \u001b[0;36mSolver.solve\u001b[0;34m(self, current_solutions, current_depth, initial_time, verbose)\u001b[0m\n\u001b[1;32m    335\u001b[0m \u001b[38;5;28;01mif\u001b[39;00m current_depth \u001b[38;5;241m==\u001b[39m MAX_DEPTH:\n\u001b[1;32m    336\u001b[0m     _, _ \u001b[38;5;241m=\u001b[39m \u001b[38;5;28mself\u001b[39m\u001b[38;5;241m.\u001b[39m_expand_current_solution(\n\u001b[1;32m    337\u001b[0m         \u001b[38;5;28mself\u001b[39m\u001b[38;5;241m.\u001b[39mbest_solution, seen_solutions, current_depth, new_current_solutions\n\u001b[1;32m    338\u001b[0m     )  \u001b[38;5;66;03m# one last try, expand the best solution (only one) found\u001b[39;00m\n\u001b[0;32m--> 339\u001b[0m     \u001b[38;5;28;43mself\u001b[39;49m\u001b[38;5;241;43m.\u001b[39;49m\u001b[43m_expand_last_try\u001b[49m\u001b[43m(\u001b[49m\u001b[43m)\u001b[49m\n\u001b[1;32m    340\u001b[0m     \u001b[38;5;28;01mreturn\u001b[39;00m \u001b[38;5;28mself\u001b[39m\u001b[38;5;241m.\u001b[39mreturn_best_solution(time\u001b[38;5;241m.\u001b[39mtime() \u001b[38;5;241m-\u001b[39m initial_time)\n\u001b[1;32m    342\u001b[0m \u001b[38;5;28;01mreturn\u001b[39;00m \u001b[38;5;28mself\u001b[39m\u001b[38;5;241m.\u001b[39msolve(\n\u001b[1;32m    343\u001b[0m     new_current_solutions,\n\u001b[1;32m    344\u001b[0m     current_depth \u001b[38;5;241m+\u001b[39m \u001b[38;5;241m1\u001b[39m,\n\u001b[1;32m    345\u001b[0m     initial_time,\n\u001b[1;32m    346\u001b[0m     verbose,\n\u001b[1;32m    347\u001b[0m )\n",
      "File \u001b[0;32m~/Escritorio/cifras-y-letras/src/solver.py:267\u001b[0m, in \u001b[0;36mSolver._expand_last_try\u001b[0;34m(self)\u001b[0m\n\u001b[1;32m    265\u001b[0m     \u001b[38;5;28;01mif\u001b[39;00m num \u001b[38;5;129;01min\u001b[39;00m copy_numbers:\n\u001b[1;32m    266\u001b[0m         copy_numbers\u001b[38;5;241m.\u001b[39mremove(num)\n\u001b[0;32m--> 267\u001b[0m num \u001b[38;5;241m=\u001b[39m \u001b[43mcopy_numbers\u001b[49m\u001b[43m[\u001b[49m\u001b[38;5;241;43m0\u001b[39;49m\u001b[43m]\u001b[49m\n\u001b[1;32m    269\u001b[0m \u001b[38;5;66;03m# See if we can improve\u001b[39;00m\n\u001b[1;32m    270\u001b[0m current_sol \u001b[38;5;241m=\u001b[39m \u001b[38;5;28mself\u001b[39m\u001b[38;5;241m.\u001b[39mevaluate_solution(\u001b[38;5;28mself\u001b[39m\u001b[38;5;241m.\u001b[39mbest_solution)\n",
      "\u001b[0;31mIndexError\u001b[0m: list index out of range"
     ]
    }
   ],
   "source": [
    "available_numbers = [2, 1, 5, 2, 7, 8]\n",
    "objective = 683\n",
    "\n",
    "s = Solver(available_numbers, objective)\n",
    "s.solve()"
   ]
  },
  {
   "cell_type": "code",
   "execution_count": 6,
   "metadata": {},
   "outputs": [
    {
     "name": "stdout",
     "output_type": "stream",
     "text": [
      "Current depth: 1\n",
      "Time elapsed: 0.00 s\n",
      "Number of solutions: 6\n",
      "\n",
      "Current depth: 2\n",
      "Time elapsed: 0.00 s\n",
      "Number of solutions: 156\n",
      "\n",
      "Current depth: 3\n",
      "Time elapsed: 0.02 s\n",
      "Number of solutions: 3924\n",
      "\n",
      "Current depth: 4\n",
      "Time elapsed: 0.42 s\n",
      "Number of solutions: 81222\n",
      "\n",
      "Current depth: 5\n",
      "Time elapsed: 11.26 s\n",
      "Number of solutions: 1171590\n",
      "\n"
     ]
    },
    {
     "data": {
      "text/plain": [
       "'5 + 5 * 6 * (25 - 9) = 485. Time elapsed: 11.27 s.'"
      ]
     },
     "execution_count": 6,
     "metadata": {},
     "output_type": "execute_result"
    }
   ],
   "source": [
    "available_numbers = [5, 5, 6, 9, 3, 25]\n",
    "objective = 485\n",
    "\n",
    "s = Solver(available_numbers, objective)\n",
    "s.solve()"
   ]
  },
  {
   "cell_type": "code",
   "execution_count": null,
   "metadata": {},
   "outputs": [],
   "source": []
  }
 ],
 "metadata": {
  "kernelspec": {
   "display_name": "Python 3",
   "language": "python",
   "name": "python3"
  },
  "language_info": {
   "codemirror_mode": {
    "name": "ipython",
    "version": 3
   },
   "file_extension": ".py",
   "mimetype": "text/x-python",
   "name": "python",
   "nbconvert_exporter": "python",
   "pygments_lexer": "ipython3",
   "version": "3.12.4"
  }
 },
 "nbformat": 4,
 "nbformat_minor": 2
}
