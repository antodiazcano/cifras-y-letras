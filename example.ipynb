{
 "cells": [
  {
   "cell_type": "code",
   "execution_count": 1,
   "metadata": {},
   "outputs": [],
   "source": [
    "from src.main import Solver"
   ]
  },
  {
   "cell_type": "code",
   "execution_count": 2,
   "metadata": {},
   "outputs": [
    {
     "name": "stdout",
     "output_type": "stream",
     "text": [
      "Current depth: 1\n",
      "Time elapsed: 0.00\n",
      "Number of solutions: 6\n",
      "\n",
      "Current depth: 2\n",
      "Time elapsed: 0.00\n",
      "Number of solutions: 192\n",
      "\n",
      "Current depth: 3\n",
      "Time elapsed: 0.03\n",
      "Number of solutions: 6480\n",
      "\n",
      "Current depth: 4\n",
      "Time elapsed: 0.94\n",
      "Number of solutions: 176904\n",
      "\n",
      "Current depth: 5\n",
      "Time elapsed: 26.83\n",
      "Number of solutions: 2829540\n",
      "\n"
     ]
    },
    {
     "data": {
      "text/plain": [
       "'6 * 6 * (1 + 9) - 2 = 358.  Time elapsed: 29.56 s.'"
      ]
     },
     "execution_count": 2,
     "metadata": {},
     "output_type": "execute_result"
    }
   ],
   "source": [
    "available_numbers = [1, 6, 75, 6, 2, 9]\n",
    "objective = 358\n",
    "\n",
    "s = Solver(available_numbers, objective)\n",
    "s.exhaustive_search()"
   ]
  },
  {
   "cell_type": "code",
   "execution_count": 3,
   "metadata": {},
   "outputs": [
    {
     "name": "stdout",
     "output_type": "stream",
     "text": [
      "Current depth: 1\n",
      "Time elapsed: 0.00\n",
      "Number of solutions: 6\n",
      "\n",
      "Current depth: 2\n",
      "Time elapsed: 0.00\n",
      "Number of solutions: 192\n",
      "\n",
      "Current depth: 3\n",
      "Time elapsed: 0.03\n",
      "Number of solutions: 6480\n",
      "\n",
      "Current depth: 4\n",
      "Time elapsed: 0.95\n",
      "Number of solutions: 176904\n",
      "\n",
      "Current depth: 5\n",
      "Time elapsed: 27.72\n",
      "Number of solutions: 2850672\n",
      "\n"
     ]
    },
    {
     "data": {
      "text/plain": [
       "'3 * (1 - (10 - 50) * 2) = 243.  Time elapsed: 29.19 s.'"
      ]
     },
     "execution_count": 3,
     "metadata": {},
     "output_type": "execute_result"
    }
   ],
   "source": [
    "available_numbers = [3, 10, 1, 1, 2, 50]\n",
    "objective = 243\n",
    "\n",
    "s = Solver(available_numbers, objective)\n",
    "s.exhaustive_search()"
   ]
  },
  {
   "cell_type": "code",
   "execution_count": 4,
   "metadata": {},
   "outputs": [
    {
     "name": "stdout",
     "output_type": "stream",
     "text": [
      "Current depth: 1\n",
      "Time elapsed: 0.00\n",
      "Number of solutions: 6\n",
      "\n",
      "Current depth: 2\n",
      "Time elapsed: 0.00\n",
      "Number of solutions: 192\n",
      "\n",
      "Current depth: 3\n",
      "Time elapsed: 0.03\n",
      "Number of solutions: 6480\n",
      "\n",
      "Current depth: 4\n",
      "Time elapsed: 0.91\n",
      "Number of solutions: 176904\n",
      "\n",
      "Current depth: 5\n",
      "Time elapsed: 27.33\n",
      "Number of solutions: 2833344\n",
      "\n"
     ]
    },
    {
     "data": {
      "text/plain": [
       "'10 * 2 * (50 - 2) - 25 = 935.  Time elapsed: 27.91 s.'"
      ]
     },
     "execution_count": 4,
     "metadata": {},
     "output_type": "execute_result"
    }
   ],
   "source": [
    "available_numbers = [10, 1, 25, 2, 2, 50]\n",
    "objective = 935\n",
    "\n",
    "s = Solver(available_numbers, objective)\n",
    "s.exhaustive_search()"
   ]
  },
  {
   "cell_type": "code",
   "execution_count": 5,
   "metadata": {},
   "outputs": [
    {
     "name": "stdout",
     "output_type": "stream",
     "text": [
      "Current depth: 1\n",
      "Time elapsed: 0.00\n",
      "Number of solutions: 6\n",
      "\n",
      "Current depth: 2\n",
      "Time elapsed: 0.00\n",
      "Number of solutions: 192\n",
      "\n",
      "Current depth: 3\n",
      "Time elapsed: 0.04\n",
      "Number of solutions: 6480\n",
      "\n",
      "Current depth: 4\n",
      "Time elapsed: 0.89\n",
      "Number of solutions: 176904\n",
      "\n"
     ]
    },
    {
     "data": {
      "text/plain": [
       "'6 * 8 * 8 * 2 = 768.  Time elapsed: 1.12 s.'"
      ]
     },
     "execution_count": 5,
     "metadata": {},
     "output_type": "execute_result"
    }
   ],
   "source": [
    "available_numbers = [6, 8, 4, 1, 8, 2]\n",
    "objective = 768\n",
    "\n",
    "s = Solver(available_numbers, objective)\n",
    "s.exhaustive_search()"
   ]
  },
  {
   "cell_type": "code",
   "execution_count": 6,
   "metadata": {},
   "outputs": [
    {
     "name": "stdout",
     "output_type": "stream",
     "text": [
      "Current depth: 1\n",
      "Time elapsed: 0.00\n",
      "Number of solutions: 6\n",
      "\n",
      "Current depth: 2\n",
      "Time elapsed: 0.00\n",
      "Number of solutions: 204\n",
      "\n",
      "Current depth: 3\n",
      "Time elapsed: 0.03\n",
      "Number of solutions: 7560\n",
      "\n",
      "Current depth: 4\n",
      "Time elapsed: 1.04\n",
      "Number of solutions: 235872\n",
      "\n",
      "Current depth: 5\n",
      "Time elapsed: 36.43\n",
      "Number of solutions: 3819312\n",
      "\n"
     ]
    },
    {
     "data": {
      "text/plain": [
       "'3 * 3 * 4 * 2 * 2 = 144.  Time elapsed: 45.00 s.'"
      ]
     },
     "execution_count": 6,
     "metadata": {},
     "output_type": "execute_result"
    }
   ],
   "source": [
    "available_numbers = [3, 4, 3, 2, 2, 1]\n",
    "objective = 347\n",
    "\n",
    "s = Solver(available_numbers, objective)\n",
    "s.exhaustive_search()"
   ]
  },
  {
   "cell_type": "code",
   "execution_count": null,
   "metadata": {},
   "outputs": [],
   "source": []
  }
 ],
 "metadata": {
  "kernelspec": {
   "display_name": ".venv",
   "language": "python",
   "name": "python3"
  },
  "language_info": {
   "codemirror_mode": {
    "name": "ipython",
    "version": 3
   },
   "file_extension": ".py",
   "mimetype": "text/x-python",
   "name": "python",
   "nbconvert_exporter": "python",
   "pygments_lexer": "ipython3",
   "version": "3.12.3"
  }
 },
 "nbformat": 4,
 "nbformat_minor": 2
}
